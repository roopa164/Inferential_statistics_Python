{
 "cells": [
  {
   "cell_type": "code",
   "execution_count": 58,
   "metadata": {},
   "outputs": [],
   "source": [
    "import pandas as pd\n",
    "import numpy as np\n",
    "import seaborn as sns\n",
    "import matplotlib.pyplot as plt"
   ]
  },
  {
   "cell_type": "code",
   "execution_count": 27,
   "metadata": {},
   "outputs": [
    {
     "name": "stdout",
     "output_type": "stream",
     "text": [
      "   Column 1.1  Column 1.2  Column 1.3  Column 2.1  Column 2.2  id  id1\n",
      "0          14          10           1           1          10   1    A\n",
      "1          15          10           4           2          10   2    B\n",
      "2          16          10           5           3          10   3    C\n",
      "3          14          10           1           1          20   1    A\n",
      "4          15          10           4           2          20   2    B\n",
      "5          16          10           5           3          20   3    C\n",
      "6          10          10           1           1          20   7    D\n",
      "7          10          10           4           2          20   8    E\n",
      "8          10          10           5           3          20   9    F\n",
      "9          10          10           1           1          20  10  Gab\n"
     ]
    }
   ],
   "source": [
    "d = {'id':['1', '2', '3','1', '2', '3','7','8','9','10'], \n",
    "     'id1':['A','B','C','A','B','C','D','E','F','Gab'],\n",
    "     'Column 1.1':[14, 15, 16,14, 15, 16,10, 10, 10,10], \n",
    "     'Column 1.2':[10, 10, 10,10,10, 10, 10,10,10,10], \n",
    "     'Column 1.3':[1, 4, 5,1, 4, 5,1, 4, 5,1], \n",
    "     'Column 2.1':[1, 2, 3,1, 2, 3,1, 2, 3,1], \n",
    "     'Column 2.2':[10, 10, 10,20,20,20,20,20,20,20], } \n",
    "  \n",
    "# Converting dictionary into a data-frame  \n",
    "df = pd.DataFrame(d) \n",
    "print(df) "
   ]
  },
  {
   "cell_type": "markdown",
   "metadata": {},
   "source": [
    "##### Groupby on single column"
   ]
  },
  {
   "cell_type": "code",
   "execution_count": 28,
   "metadata": {},
   "outputs": [
    {
     "data": {
      "text/html": [
       "<div>\n",
       "<style scoped>\n",
       "    .dataframe tbody tr th:only-of-type {\n",
       "        vertical-align: middle;\n",
       "    }\n",
       "\n",
       "    .dataframe tbody tr th {\n",
       "        vertical-align: top;\n",
       "    }\n",
       "\n",
       "    .dataframe thead th {\n",
       "        text-align: right;\n",
       "    }\n",
       "</style>\n",
       "<table border=\"1\" class=\"dataframe\">\n",
       "  <thead>\n",
       "    <tr style=\"text-align: right;\">\n",
       "      <th></th>\n",
       "      <th>Column 1.1</th>\n",
       "      <th>Column 1.2</th>\n",
       "      <th>Column 1.3</th>\n",
       "      <th>Column 2.1</th>\n",
       "      <th>Column 2.2</th>\n",
       "    </tr>\n",
       "    <tr>\n",
       "      <th>id</th>\n",
       "      <th></th>\n",
       "      <th></th>\n",
       "      <th></th>\n",
       "      <th></th>\n",
       "      <th></th>\n",
       "    </tr>\n",
       "  </thead>\n",
       "  <tbody>\n",
       "    <tr>\n",
       "      <th>1</th>\n",
       "      <td>14</td>\n",
       "      <td>10</td>\n",
       "      <td>1</td>\n",
       "      <td>1</td>\n",
       "      <td>15</td>\n",
       "    </tr>\n",
       "    <tr>\n",
       "      <th>10</th>\n",
       "      <td>10</td>\n",
       "      <td>10</td>\n",
       "      <td>1</td>\n",
       "      <td>1</td>\n",
       "      <td>20</td>\n",
       "    </tr>\n",
       "    <tr>\n",
       "      <th>2</th>\n",
       "      <td>15</td>\n",
       "      <td>10</td>\n",
       "      <td>4</td>\n",
       "      <td>2</td>\n",
       "      <td>15</td>\n",
       "    </tr>\n",
       "    <tr>\n",
       "      <th>3</th>\n",
       "      <td>16</td>\n",
       "      <td>10</td>\n",
       "      <td>5</td>\n",
       "      <td>3</td>\n",
       "      <td>15</td>\n",
       "    </tr>\n",
       "    <tr>\n",
       "      <th>7</th>\n",
       "      <td>10</td>\n",
       "      <td>10</td>\n",
       "      <td>1</td>\n",
       "      <td>1</td>\n",
       "      <td>20</td>\n",
       "    </tr>\n",
       "    <tr>\n",
       "      <th>8</th>\n",
       "      <td>10</td>\n",
       "      <td>10</td>\n",
       "      <td>4</td>\n",
       "      <td>2</td>\n",
       "      <td>20</td>\n",
       "    </tr>\n",
       "    <tr>\n",
       "      <th>9</th>\n",
       "      <td>10</td>\n",
       "      <td>10</td>\n",
       "      <td>5</td>\n",
       "      <td>3</td>\n",
       "      <td>20</td>\n",
       "    </tr>\n",
       "  </tbody>\n",
       "</table>\n",
       "</div>"
      ],
      "text/plain": [
       "    Column 1.1  Column 1.2  Column 1.3  Column 2.1  Column 2.2\n",
       "id                                                            \n",
       "1           14          10           1           1          15\n",
       "10          10          10           1           1          20\n",
       "2           15          10           4           2          15\n",
       "3           16          10           5           3          15\n",
       "7           10          10           1           1          20\n",
       "8           10          10           4           2          20\n",
       "9           10          10           5           3          20"
      ]
     },
     "execution_count": 28,
     "metadata": {},
     "output_type": "execute_result"
    }
   ],
   "source": [
    "df.groupby(['id']).mean()"
   ]
  },
  {
   "cell_type": "markdown",
   "metadata": {},
   "source": [
    "##### Groupby on single column and choose the column u want"
   ]
  },
  {
   "cell_type": "code",
   "execution_count": 29,
   "metadata": {},
   "outputs": [
    {
     "data": {
      "text/plain": [
       "id\n",
       "1     14\n",
       "10    10\n",
       "2     15\n",
       "3     16\n",
       "7     10\n",
       "8     10\n",
       "9     10\n",
       "Name: Column 1.1, dtype: int64"
      ]
     },
     "execution_count": 29,
     "metadata": {},
     "output_type": "execute_result"
    }
   ],
   "source": [
    "df.groupby(['id'])['Column 1.1'].mean()"
   ]
  },
  {
   "cell_type": "markdown",
   "metadata": {},
   "source": [
    "##### Groupby on multiple column"
   ]
  },
  {
   "cell_type": "code",
   "execution_count": 30,
   "metadata": {},
   "outputs": [
    {
     "data": {
      "text/html": [
       "<div>\n",
       "<style scoped>\n",
       "    .dataframe tbody tr th:only-of-type {\n",
       "        vertical-align: middle;\n",
       "    }\n",
       "\n",
       "    .dataframe tbody tr th {\n",
       "        vertical-align: top;\n",
       "    }\n",
       "\n",
       "    .dataframe thead th {\n",
       "        text-align: right;\n",
       "    }\n",
       "</style>\n",
       "<table border=\"1\" class=\"dataframe\">\n",
       "  <thead>\n",
       "    <tr style=\"text-align: right;\">\n",
       "      <th></th>\n",
       "      <th></th>\n",
       "      <th>Column 1.1</th>\n",
       "      <th>Column 1.2</th>\n",
       "      <th>Column 1.3</th>\n",
       "      <th>Column 2.1</th>\n",
       "      <th>Column 2.2</th>\n",
       "    </tr>\n",
       "    <tr>\n",
       "      <th>id</th>\n",
       "      <th>id1</th>\n",
       "      <th></th>\n",
       "      <th></th>\n",
       "      <th></th>\n",
       "      <th></th>\n",
       "      <th></th>\n",
       "    </tr>\n",
       "  </thead>\n",
       "  <tbody>\n",
       "    <tr>\n",
       "      <th>1</th>\n",
       "      <th>A</th>\n",
       "      <td>28</td>\n",
       "      <td>20</td>\n",
       "      <td>2</td>\n",
       "      <td>2</td>\n",
       "      <td>30</td>\n",
       "    </tr>\n",
       "    <tr>\n",
       "      <th>10</th>\n",
       "      <th>Gab</th>\n",
       "      <td>10</td>\n",
       "      <td>10</td>\n",
       "      <td>1</td>\n",
       "      <td>1</td>\n",
       "      <td>20</td>\n",
       "    </tr>\n",
       "    <tr>\n",
       "      <th>2</th>\n",
       "      <th>B</th>\n",
       "      <td>30</td>\n",
       "      <td>20</td>\n",
       "      <td>8</td>\n",
       "      <td>4</td>\n",
       "      <td>30</td>\n",
       "    </tr>\n",
       "    <tr>\n",
       "      <th>3</th>\n",
       "      <th>C</th>\n",
       "      <td>32</td>\n",
       "      <td>20</td>\n",
       "      <td>10</td>\n",
       "      <td>6</td>\n",
       "      <td>30</td>\n",
       "    </tr>\n",
       "    <tr>\n",
       "      <th>7</th>\n",
       "      <th>D</th>\n",
       "      <td>10</td>\n",
       "      <td>10</td>\n",
       "      <td>1</td>\n",
       "      <td>1</td>\n",
       "      <td>20</td>\n",
       "    </tr>\n",
       "    <tr>\n",
       "      <th>8</th>\n",
       "      <th>E</th>\n",
       "      <td>10</td>\n",
       "      <td>10</td>\n",
       "      <td>4</td>\n",
       "      <td>2</td>\n",
       "      <td>20</td>\n",
       "    </tr>\n",
       "    <tr>\n",
       "      <th>9</th>\n",
       "      <th>F</th>\n",
       "      <td>10</td>\n",
       "      <td>10</td>\n",
       "      <td>5</td>\n",
       "      <td>3</td>\n",
       "      <td>20</td>\n",
       "    </tr>\n",
       "  </tbody>\n",
       "</table>\n",
       "</div>"
      ],
      "text/plain": [
       "        Column 1.1  Column 1.2  Column 1.3  Column 2.1  Column 2.2\n",
       "id id1                                                            \n",
       "1  A            28          20           2           2          30\n",
       "10 Gab          10          10           1           1          20\n",
       "2  B            30          20           8           4          30\n",
       "3  C            32          20          10           6          30\n",
       "7  D            10          10           1           1          20\n",
       "8  E            10          10           4           2          20\n",
       "9  F            10          10           5           3          20"
      ]
     },
     "execution_count": 30,
     "metadata": {},
     "output_type": "execute_result"
    }
   ],
   "source": [
    "df.groupby(['id','id1']).sum() # explore some arithmetic operations here"
   ]
  },
  {
   "cell_type": "markdown",
   "metadata": {},
   "source": [
    "##### Lambda Function"
   ]
  },
  {
   "cell_type": "code",
   "execution_count": 31,
   "metadata": {},
   "outputs": [
    {
     "data": {
      "text/plain": [
       "0    28\n",
       "1    30\n",
       "2    32\n",
       "3    28\n",
       "4    30\n",
       "5    32\n",
       "6    20\n",
       "7    20\n",
       "8    20\n",
       "9    20\n",
       "Name: Column 1.1, dtype: int64"
      ]
     },
     "execution_count": 31,
     "metadata": {},
     "output_type": "execute_result"
    }
   ],
   "source": [
    "df['Column 1.1'].apply(lambda x: x*2)"
   ]
  },
  {
   "cell_type": "code",
   "execution_count": 32,
   "metadata": {},
   "outputs": [
    {
     "data": {
      "text/plain": [
       "0       [A]\n",
       "1       [B]\n",
       "2       [C]\n",
       "3       [A]\n",
       "4       [B]\n",
       "5       [C]\n",
       "6       [D]\n",
       "7       [E]\n",
       "8       [F]\n",
       "9    [G, b]\n",
       "Name: id1, dtype: object"
      ]
     },
     "execution_count": 32,
     "metadata": {},
     "output_type": "execute_result"
    }
   ],
   "source": [
    "df['id1'].apply(lambda x: x.split('a'))"
   ]
  },
  {
   "cell_type": "markdown",
   "metadata": {},
   "source": [
    "##### Pivot table in Python"
   ]
  },
  {
   "cell_type": "code",
   "execution_count": 50,
   "metadata": {},
   "outputs": [
    {
     "data": {
      "text/html": [
       "<div>\n",
       "<style scoped>\n",
       "    .dataframe tbody tr th:only-of-type {\n",
       "        vertical-align: middle;\n",
       "    }\n",
       "\n",
       "    .dataframe tbody tr th {\n",
       "        vertical-align: top;\n",
       "    }\n",
       "\n",
       "    .dataframe thead th {\n",
       "        text-align: right;\n",
       "    }\n",
       "</style>\n",
       "<table border=\"1\" class=\"dataframe\">\n",
       "  <thead>\n",
       "    <tr style=\"text-align: right;\">\n",
       "      <th></th>\n",
       "      <th></th>\n",
       "      <th>Column 1.1</th>\n",
       "      <th>Column 1.2</th>\n",
       "    </tr>\n",
       "    <tr>\n",
       "      <th>id</th>\n",
       "      <th>id1</th>\n",
       "      <th></th>\n",
       "      <th></th>\n",
       "    </tr>\n",
       "  </thead>\n",
       "  <tbody>\n",
       "    <tr>\n",
       "      <th>1</th>\n",
       "      <th>A</th>\n",
       "      <td>28</td>\n",
       "      <td>20</td>\n",
       "    </tr>\n",
       "    <tr>\n",
       "      <th>10</th>\n",
       "      <th>Gab</th>\n",
       "      <td>10</td>\n",
       "      <td>10</td>\n",
       "    </tr>\n",
       "    <tr>\n",
       "      <th>2</th>\n",
       "      <th>B</th>\n",
       "      <td>30</td>\n",
       "      <td>20</td>\n",
       "    </tr>\n",
       "    <tr>\n",
       "      <th>3</th>\n",
       "      <th>C</th>\n",
       "      <td>32</td>\n",
       "      <td>20</td>\n",
       "    </tr>\n",
       "    <tr>\n",
       "      <th>7</th>\n",
       "      <th>D</th>\n",
       "      <td>10</td>\n",
       "      <td>10</td>\n",
       "    </tr>\n",
       "    <tr>\n",
       "      <th>8</th>\n",
       "      <th>E</th>\n",
       "      <td>10</td>\n",
       "      <td>10</td>\n",
       "    </tr>\n",
       "    <tr>\n",
       "      <th>9</th>\n",
       "      <th>F</th>\n",
       "      <td>10</td>\n",
       "      <td>10</td>\n",
       "    </tr>\n",
       "  </tbody>\n",
       "</table>\n",
       "</div>"
      ],
      "text/plain": [
       "        Column 1.1  Column 1.2\n",
       "id id1                        \n",
       "1  A            28          20\n",
       "10 Gab          10          10\n",
       "2  B            30          20\n",
       "3  C            32          20\n",
       "7  D            10          10\n",
       "8  E            10          10\n",
       "9  F            10          10"
      ]
     },
     "execution_count": 50,
     "metadata": {},
     "output_type": "execute_result"
    }
   ],
   "source": [
    "\n",
    "pd.pivot_table(df,index=['id','id1'],values=[\"Column 1.1\",\"Column 1.2\"],aggfunc=np.sum)"
   ]
  },
  {
   "cell_type": "markdown",
   "metadata": {},
   "source": [
    "##### Read data from Excel"
   ]
  },
  {
   "cell_type": "code",
   "execution_count": 60,
   "metadata": {},
   "outputs": [
    {
     "data": {
      "text/html": [
       "<div>\n",
       "<style scoped>\n",
       "    .dataframe tbody tr th:only-of-type {\n",
       "        vertical-align: middle;\n",
       "    }\n",
       "\n",
       "    .dataframe tbody tr th {\n",
       "        vertical-align: top;\n",
       "    }\n",
       "\n",
       "    .dataframe thead th {\n",
       "        text-align: right;\n",
       "    }\n",
       "</style>\n",
       "<table border=\"1\" class=\"dataframe\">\n",
       "  <thead>\n",
       "    <tr style=\"text-align: right;\">\n",
       "      <th></th>\n",
       "      <th>id</th>\n",
       "      <th>cat</th>\n",
       "    </tr>\n",
       "  </thead>\n",
       "  <tbody>\n",
       "    <tr>\n",
       "      <th>0</th>\n",
       "      <td>1</td>\n",
       "      <td>A</td>\n",
       "    </tr>\n",
       "    <tr>\n",
       "      <th>1</th>\n",
       "      <td>1</td>\n",
       "      <td>A</td>\n",
       "    </tr>\n",
       "    <tr>\n",
       "      <th>2</th>\n",
       "      <td>1</td>\n",
       "      <td>A</td>\n",
       "    </tr>\n",
       "    <tr>\n",
       "      <th>3</th>\n",
       "      <td>1</td>\n",
       "      <td>A</td>\n",
       "    </tr>\n",
       "    <tr>\n",
       "      <th>4</th>\n",
       "      <td>1</td>\n",
       "      <td>A</td>\n",
       "    </tr>\n",
       "    <tr>\n",
       "      <th>5</th>\n",
       "      <td>1</td>\n",
       "      <td>A</td>\n",
       "    </tr>\n",
       "    <tr>\n",
       "      <th>6</th>\n",
       "      <td>1</td>\n",
       "      <td>A</td>\n",
       "    </tr>\n",
       "    <tr>\n",
       "      <th>7</th>\n",
       "      <td>1</td>\n",
       "      <td>A</td>\n",
       "    </tr>\n",
       "    <tr>\n",
       "      <th>8</th>\n",
       "      <td>1</td>\n",
       "      <td>A</td>\n",
       "    </tr>\n",
       "  </tbody>\n",
       "</table>\n",
       "</div>"
      ],
      "text/plain": [
       "   id cat\n",
       "0   1   A\n",
       "1   1   A\n",
       "2   1   A\n",
       "3   1   A\n",
       "4   1   A\n",
       "5   1   A\n",
       "6   1   A\n",
       "7   1   A\n",
       "8   1   A"
      ]
     },
     "execution_count": 60,
     "metadata": {},
     "output_type": "execute_result"
    }
   ],
   "source": [
    "pd.read_excel(\"data_session4.xlsx\")"
   ]
  },
  {
   "cell_type": "code",
   "execution_count": 61,
   "metadata": {},
   "outputs": [],
   "source": [
    "xls = pd.ExcelFile(\"data_session4.xlsx\")\n",
    "df1 = pd.read_excel(xls, 'Sheet1')\n",
    "df2 = pd.read_excel(xls, 'Sheet2')"
   ]
  },
  {
   "cell_type": "code",
   "execution_count": 63,
   "metadata": {},
   "outputs": [
    {
     "name": "stdout",
     "output_type": "stream",
     "text": [
      "   id cat\n",
      "0   1   A\n",
      "1   1   A\n",
      "2   1   A\n",
      "3   1   A\n",
      "4   1   A\n",
      "5   1   A\n",
      "6   1   A\n",
      "7   1   A\n",
      "8   1   A\n",
      "   id cat\n",
      "0   2   B\n",
      "1   2   B\n",
      "2   2   B\n",
      "3   2   B\n",
      "4   2   B\n",
      "5   2   B\n",
      "6   2   B\n",
      "7   2   B\n",
      "8   2   B\n"
     ]
    }
   ],
   "source": [
    "print(df1)\n",
    "#print(df2)"
   ]
  },
  {
   "cell_type": "markdown",
   "metadata": {},
   "source": [
    "<h1><b><I>Inferential Statistics Application"
   ]
  },
  {
   "cell_type": "code",
   "execution_count": 20,
   "metadata": {},
   "outputs": [],
   "source": [
    "import pandas as pd\n",
    "data_infer = pd.read_csv(\"Movie.csv\")\n",
    "pd.set_option('display.max_columns',500)"
   ]
  },
  {
   "cell_type": "code",
   "execution_count": 21,
   "metadata": {
    "scrolled": true
   },
   "outputs": [
    {
     "name": "stdout",
     "output_type": "stream",
     "text": [
      "director_name             0\n",
      "num_critic_for_reviews    1\n",
      "gross                     0\n",
      "genres                    0\n",
      "actor_1_name              3\n",
      "movie_title               0\n",
      "num_voted_users           0\n",
      "num_user_for_reviews      0\n",
      "language                  0\n",
      "budget                    0\n",
      "title_year                0\n",
      "imdb_score                0\n",
      "movie_facebook_likes      0\n",
      "profit                    0\n",
      "dtype: int64\n"
     ]
    },
    {
     "data": {
      "text/html": [
       "<div>\n",
       "<style scoped>\n",
       "    .dataframe tbody tr th:only-of-type {\n",
       "        vertical-align: middle;\n",
       "    }\n",
       "\n",
       "    .dataframe tbody tr th {\n",
       "        vertical-align: top;\n",
       "    }\n",
       "\n",
       "    .dataframe thead th {\n",
       "        text-align: right;\n",
       "    }\n",
       "</style>\n",
       "<table border=\"1\" class=\"dataframe\">\n",
       "  <thead>\n",
       "    <tr style=\"text-align: right;\">\n",
       "      <th></th>\n",
       "      <th>director_name</th>\n",
       "      <th>num_critic_for_reviews</th>\n",
       "      <th>gross</th>\n",
       "      <th>genres</th>\n",
       "      <th>actor_1_name</th>\n",
       "      <th>movie_title</th>\n",
       "      <th>num_voted_users</th>\n",
       "      <th>num_user_for_reviews</th>\n",
       "      <th>language</th>\n",
       "      <th>budget</th>\n",
       "      <th>title_year</th>\n",
       "      <th>imdb_score</th>\n",
       "      <th>movie_facebook_likes</th>\n",
       "      <th>profit</th>\n",
       "    </tr>\n",
       "  </thead>\n",
       "  <tbody>\n",
       "    <tr>\n",
       "      <th>0</th>\n",
       "      <td>James Cameron</td>\n",
       "      <td>723</td>\n",
       "      <td>760</td>\n",
       "      <td>Action|Adventure|Fantasy|Sci-Fi</td>\n",
       "      <td>CCH Pounder</td>\n",
       "      <td>Avatar</td>\n",
       "      <td>886204</td>\n",
       "      <td>3054</td>\n",
       "      <td>English</td>\n",
       "      <td>237</td>\n",
       "      <td>2009</td>\n",
       "      <td>7</td>\n",
       "      <td>33000</td>\n",
       "      <td>523</td>\n",
       "    </tr>\n",
       "    <tr>\n",
       "      <th>1</th>\n",
       "      <td>Colin Trevorrow</td>\n",
       "      <td>644</td>\n",
       "      <td>652</td>\n",
       "      <td>Action|Adventure|Sci-Fi|Thriller</td>\n",
       "      <td>Bryce Dallas Howard</td>\n",
       "      <td>Jurassic World</td>\n",
       "      <td>418214</td>\n",
       "      <td>1290</td>\n",
       "      <td>English</td>\n",
       "      <td>150</td>\n",
       "      <td>2015</td>\n",
       "      <td>7</td>\n",
       "      <td>150000</td>\n",
       "      <td>502</td>\n",
       "    </tr>\n",
       "    <tr>\n",
       "      <th>2</th>\n",
       "      <td>James Cameron</td>\n",
       "      <td>315</td>\n",
       "      <td>658</td>\n",
       "      <td>Drama|Romance</td>\n",
       "      <td>Leonardo DiCaprio</td>\n",
       "      <td>Titanic</td>\n",
       "      <td>793059</td>\n",
       "      <td>2528</td>\n",
       "      <td>English</td>\n",
       "      <td>200</td>\n",
       "      <td>1997</td>\n",
       "      <td>7</td>\n",
       "      <td>26000</td>\n",
       "      <td>458</td>\n",
       "    </tr>\n",
       "    <tr>\n",
       "      <th>3</th>\n",
       "      <td>George Lucas</td>\n",
       "      <td>282</td>\n",
       "      <td>460</td>\n",
       "      <td>Action|Adventure|Fantasy|Sci-Fi</td>\n",
       "      <td>Harrison Ford</td>\n",
       "      <td>Star Wars: Episode IV - A New Hope</td>\n",
       "      <td>911097</td>\n",
       "      <td>1470</td>\n",
       "      <td>English</td>\n",
       "      <td>11</td>\n",
       "      <td>1977</td>\n",
       "      <td>8</td>\n",
       "      <td>33000</td>\n",
       "      <td>449</td>\n",
       "    </tr>\n",
       "    <tr>\n",
       "      <th>4</th>\n",
       "      <td>Steven Spielberg</td>\n",
       "      <td>215</td>\n",
       "      <td>434</td>\n",
       "      <td>Family|Sci-Fi</td>\n",
       "      <td>Henry Thomas</td>\n",
       "      <td>E.T. the Extra-Terrestrial</td>\n",
       "      <td>281842</td>\n",
       "      <td>515</td>\n",
       "      <td>English</td>\n",
       "      <td>10</td>\n",
       "      <td>1982</td>\n",
       "      <td>7</td>\n",
       "      <td>34000</td>\n",
       "      <td>424</td>\n",
       "    </tr>\n",
       "  </tbody>\n",
       "</table>\n",
       "</div>"
      ],
      "text/plain": [
       "      director_name  num_critic_for_reviews  gross  \\\n",
       "0     James Cameron                     723    760   \n",
       "1   Colin Trevorrow                     644    652   \n",
       "2     James Cameron                     315    658   \n",
       "3      George Lucas                     282    460   \n",
       "4  Steven Spielberg                     215    434   \n",
       "\n",
       "                             genres         actor_1_name  \\\n",
       "0   Action|Adventure|Fantasy|Sci-Fi          CCH Pounder   \n",
       "1  Action|Adventure|Sci-Fi|Thriller  Bryce Dallas Howard   \n",
       "2                     Drama|Romance    Leonardo DiCaprio   \n",
       "3   Action|Adventure|Fantasy|Sci-Fi        Harrison Ford   \n",
       "4                     Family|Sci-Fi         Henry Thomas   \n",
       "\n",
       "                           movie_title  num_voted_users  num_user_for_reviews  \\\n",
       "0                              Avatar            886204                  3054   \n",
       "1                      Jurassic World            418214                  1290   \n",
       "2                             Titanic            793059                  2528   \n",
       "3  Star Wars: Episode IV - A New Hope            911097                  1470   \n",
       "4          E.T. the Extra-Terrestrial            281842                   515   \n",
       "\n",
       "  language  budget  title_year  imdb_score  movie_facebook_likes  profit  \n",
       "0  English     237        2009           7                 33000     523  \n",
       "1  English     150        2015           7                150000     502  \n",
       "2  English     200        1997           7                 26000     458  \n",
       "3  English      11        1977           8                 33000     449  \n",
       "4  English      10        1982           7                 34000     424  "
      ]
     },
     "execution_count": 21,
     "metadata": {},
     "output_type": "execute_result"
    }
   ],
   "source": [
    "data_infer.head()\n",
    "print(data_infer.isnull().sum())\n",
    "data_infer.fillna(data_infer.mean(),inplace=True)\n",
    "\n",
    "data_infer.num_critic_for_reviews = data_infer.num_critic_for_reviews.astype(int)\n",
    "data_infer.budget = data_infer.budget.astype(int)\n",
    "data_infer.imdb_score = data_infer.imdb_score.astype(int)  \n",
    "data_infer.profit = data_infer.profit.astype(int)  \n",
    "data_infer.gross = data_infer.gross.astype(int)  \n",
    "data_infer.dtypes\n",
    "data_infer.head()"
   ]
  },
  {
   "cell_type": "code",
   "execution_count": 71,
   "metadata": {},
   "outputs": [],
   "source": [
    "###### Correlation between Variables"
   ]
  },
  {
   "cell_type": "code",
   "execution_count": 5,
   "metadata": {},
   "outputs": [
    {
     "data": {
      "text/html": [
       "<div>\n",
       "<style scoped>\n",
       "    .dataframe tbody tr th:only-of-type {\n",
       "        vertical-align: middle;\n",
       "    }\n",
       "\n",
       "    .dataframe tbody tr th {\n",
       "        vertical-align: top;\n",
       "    }\n",
       "\n",
       "    .dataframe thead th {\n",
       "        text-align: right;\n",
       "    }\n",
       "</style>\n",
       "<table border=\"1\" class=\"dataframe\">\n",
       "  <thead>\n",
       "    <tr style=\"text-align: right;\">\n",
       "      <th></th>\n",
       "      <th>num_critic_for_reviews</th>\n",
       "      <th>gross</th>\n",
       "      <th>num_voted_users</th>\n",
       "      <th>num_user_for_reviews</th>\n",
       "      <th>budget</th>\n",
       "      <th>title_year</th>\n",
       "      <th>imdb_score</th>\n",
       "      <th>movie_facebook_likes</th>\n",
       "      <th>profit</th>\n",
       "    </tr>\n",
       "  </thead>\n",
       "  <tbody>\n",
       "    <tr>\n",
       "      <th>num_critic_for_reviews</th>\n",
       "      <td>1.000000</td>\n",
       "      <td>0.473726</td>\n",
       "      <td>0.599578</td>\n",
       "      <td>0.572461</td>\n",
       "      <td>0.106965</td>\n",
       "      <td>0.392560</td>\n",
       "      <td>0.335442</td>\n",
       "      <td>0.701877</td>\n",
       "      <td>0.039165</td>\n",
       "    </tr>\n",
       "    <tr>\n",
       "      <th>gross</th>\n",
       "      <td>0.473726</td>\n",
       "      <td>1.000000</td>\n",
       "      <td>0.629267</td>\n",
       "      <td>0.553610</td>\n",
       "      <td>0.101240</td>\n",
       "      <td>0.044855</td>\n",
       "      <td>0.202876</td>\n",
       "      <td>0.367309</td>\n",
       "      <td>0.204977</td>\n",
       "    </tr>\n",
       "    <tr>\n",
       "      <th>num_voted_users</th>\n",
       "      <td>0.599578</td>\n",
       "      <td>0.629267</td>\n",
       "      <td>1.000000</td>\n",
       "      <td>0.782785</td>\n",
       "      <td>0.068379</td>\n",
       "      <td>0.016738</td>\n",
       "      <td>0.458800</td>\n",
       "      <td>0.519923</td>\n",
       "      <td>0.124334</td>\n",
       "    </tr>\n",
       "    <tr>\n",
       "      <th>num_user_for_reviews</th>\n",
       "      <td>0.572461</td>\n",
       "      <td>0.553610</td>\n",
       "      <td>0.782785</td>\n",
       "      <td>1.000000</td>\n",
       "      <td>0.073311</td>\n",
       "      <td>0.012617</td>\n",
       "      <td>0.308426</td>\n",
       "      <td>0.375121</td>\n",
       "      <td>0.096526</td>\n",
       "    </tr>\n",
       "    <tr>\n",
       "      <th>budget</th>\n",
       "      <td>0.106965</td>\n",
       "      <td>0.101240</td>\n",
       "      <td>0.068379</td>\n",
       "      <td>0.073311</td>\n",
       "      <td>1.000000</td>\n",
       "      <td>0.044367</td>\n",
       "      <td>0.034433</td>\n",
       "      <td>0.053338</td>\n",
       "      <td>-0.952983</td>\n",
       "    </tr>\n",
       "    <tr>\n",
       "      <th>title_year</th>\n",
       "      <td>0.392560</td>\n",
       "      <td>0.044855</td>\n",
       "      <td>0.016738</td>\n",
       "      <td>0.012617</td>\n",
       "      <td>0.044367</td>\n",
       "      <td>1.000000</td>\n",
       "      <td>-0.115795</td>\n",
       "      <td>0.293998</td>\n",
       "      <td>-0.029478</td>\n",
       "    </tr>\n",
       "    <tr>\n",
       "      <th>imdb_score</th>\n",
       "      <td>0.335442</td>\n",
       "      <td>0.202876</td>\n",
       "      <td>0.458800</td>\n",
       "      <td>0.308426</td>\n",
       "      <td>0.034433</td>\n",
       "      <td>-0.115795</td>\n",
       "      <td>1.000000</td>\n",
       "      <td>0.274404</td>\n",
       "      <td>0.027587</td>\n",
       "    </tr>\n",
       "    <tr>\n",
       "      <th>movie_facebook_likes</th>\n",
       "      <td>0.701877</td>\n",
       "      <td>0.367309</td>\n",
       "      <td>0.519923</td>\n",
       "      <td>0.375121</td>\n",
       "      <td>0.053338</td>\n",
       "      <td>0.293998</td>\n",
       "      <td>0.274404</td>\n",
       "      <td>1.000000</td>\n",
       "      <td>0.059416</td>\n",
       "    </tr>\n",
       "    <tr>\n",
       "      <th>profit</th>\n",
       "      <td>0.039165</td>\n",
       "      <td>0.204977</td>\n",
       "      <td>0.124334</td>\n",
       "      <td>0.096526</td>\n",
       "      <td>-0.952983</td>\n",
       "      <td>-0.029478</td>\n",
       "      <td>0.027587</td>\n",
       "      <td>0.059416</td>\n",
       "      <td>1.000000</td>\n",
       "    </tr>\n",
       "  </tbody>\n",
       "</table>\n",
       "</div>"
      ],
      "text/plain": [
       "                        num_critic_for_reviews     gross  num_voted_users  \\\n",
       "num_critic_for_reviews                1.000000  0.473726         0.599578   \n",
       "gross                                 0.473726  1.000000         0.629267   \n",
       "num_voted_users                       0.599578  0.629267         1.000000   \n",
       "num_user_for_reviews                  0.572461  0.553610         0.782785   \n",
       "budget                                0.106965  0.101240         0.068379   \n",
       "title_year                            0.392560  0.044855         0.016738   \n",
       "imdb_score                            0.335442  0.202876         0.458800   \n",
       "movie_facebook_likes                  0.701877  0.367309         0.519923   \n",
       "profit                                0.039165  0.204977         0.124334   \n",
       "\n",
       "                        num_user_for_reviews    budget  title_year  \\\n",
       "num_critic_for_reviews              0.572461  0.106965    0.392560   \n",
       "gross                               0.553610  0.101240    0.044855   \n",
       "num_voted_users                     0.782785  0.068379    0.016738   \n",
       "num_user_for_reviews                1.000000  0.073311    0.012617   \n",
       "budget                              0.073311  1.000000    0.044367   \n",
       "title_year                          0.012617  0.044367    1.000000   \n",
       "imdb_score                          0.308426  0.034433   -0.115795   \n",
       "movie_facebook_likes                0.375121  0.053338    0.293998   \n",
       "profit                              0.096526 -0.952983   -0.029478   \n",
       "\n",
       "                        imdb_score  movie_facebook_likes    profit  \n",
       "num_critic_for_reviews    0.335442              0.701877  0.039165  \n",
       "gross                     0.202876              0.367309  0.204977  \n",
       "num_voted_users           0.458800              0.519923  0.124334  \n",
       "num_user_for_reviews      0.308426              0.375121  0.096526  \n",
       "budget                    0.034433              0.053338 -0.952983  \n",
       "title_year               -0.115795              0.293998 -0.029478  \n",
       "imdb_score                1.000000              0.274404  0.027587  \n",
       "movie_facebook_likes      0.274404              1.000000  0.059416  \n",
       "profit                    0.027587              0.059416  1.000000  "
      ]
     },
     "metadata": {},
     "output_type": "display_data"
    }
   ],
   "source": [
    "correlation = data_infer.corr()\n",
    "display(correlation)"
   ]
  },
  {
   "cell_type": "code",
   "execution_count": 74,
   "metadata": {},
   "outputs": [
    {
     "data": {
      "text/plain": [
       "<matplotlib.axes._subplots.AxesSubplot at 0x205e48c8eb8>"
      ]
     },
     "execution_count": 74,
     "metadata": {},
     "output_type": "execute_result"
    },
    {
     "data": {
      "image/png": "[encoded data removed]",
      "text/plain": [
       "<matplotlib.figure.Figure at 0x205e491d6a0>"
      ]
     },
     "metadata": {},
     "output_type": "display_data"
    }
   ],
   "source": [
    "sns.heatmap(correlation,annot=True)"
   ]
  },
  {
   "cell_type": "markdown",
   "metadata": {},
   "source": [
    "<b><I> <h1>Chi-Square Test</h1>Association between two variables</b><br>\n",
    "Null Hypothesis: There are no association between two variables<br>\n",
    "Alternative Hypothesis: There is association between two variables<br>\n",
    "<h6> Often used when Target variable or Predicting variable is Category    \n",
    "\n",
    "  "
   ]
  },
  {
   "cell_type": "code",
   "execution_count": 22,
   "metadata": {},
   "outputs": [],
   "source": [
    "from scipy.stats import chi2_contingency"
   ]
  },
  {
   "cell_type": "code",
   "execution_count": 7,
   "metadata": {},
   "outputs": [
    {
     "data": {
      "text/html": [
       "<div>\n",
       "<style scoped>\n",
       "    .dataframe tbody tr th:only-of-type {\n",
       "        vertical-align: middle;\n",
       "    }\n",
       "\n",
       "    .dataframe tbody tr th {\n",
       "        vertical-align: top;\n",
       "    }\n",
       "\n",
       "    .dataframe thead th {\n",
       "        text-align: right;\n",
       "    }\n",
       "</style>\n",
       "<table border=\"1\" class=\"dataframe\">\n",
       "  <thead>\n",
       "    <tr style=\"text-align: right;\">\n",
       "      <th></th>\n",
       "      <th>Country</th>\n",
       "      <th>color</th>\n",
       "      <th>height</th>\n",
       "      <th>weight</th>\n",
       "      <th>citizen</th>\n",
       "    </tr>\n",
       "  </thead>\n",
       "  <tbody>\n",
       "    <tr>\n",
       "      <th>0</th>\n",
       "      <td>A</td>\n",
       "      <td>Black</td>\n",
       "      <td>168</td>\n",
       "      <td>85</td>\n",
       "      <td>y</td>\n",
       "    </tr>\n",
       "    <tr>\n",
       "      <th>1</th>\n",
       "      <td>B</td>\n",
       "      <td>Black</td>\n",
       "      <td>164</td>\n",
       "      <td>96</td>\n",
       "      <td>y</td>\n",
       "    </tr>\n",
       "    <tr>\n",
       "      <th>2</th>\n",
       "      <td>C</td>\n",
       "      <td>Black</td>\n",
       "      <td>160</td>\n",
       "      <td>86</td>\n",
       "      <td>n</td>\n",
       "    </tr>\n",
       "    <tr>\n",
       "      <th>3</th>\n",
       "      <td>A</td>\n",
       "      <td>Black</td>\n",
       "      <td>161</td>\n",
       "      <td>54</td>\n",
       "      <td>n</td>\n",
       "    </tr>\n",
       "    <tr>\n",
       "      <th>4</th>\n",
       "      <td>B</td>\n",
       "      <td>Black</td>\n",
       "      <td>161</td>\n",
       "      <td>99</td>\n",
       "      <td>y</td>\n",
       "    </tr>\n",
       "  </tbody>\n",
       "</table>\n",
       "</div>"
      ],
      "text/plain": [
       "  Country  color  height  weight citizen\n",
       "0       A  Black     168      85       y\n",
       "1       B  Black     164      96       y\n",
       "2       C  Black     160      86       n\n",
       "3       A  Black     161      54       n\n",
       "4       B  Black     161      99       y"
      ]
     },
     "execution_count": 7,
     "metadata": {},
     "output_type": "execute_result"
    }
   ],
   "source": [
    "data_chi = pd.read_csv(\"sample_data.csv\")\n",
    "data_chi.head()"
   ]
  },
  {
   "cell_type": "code",
   "execution_count": 23,
   "metadata": {},
   "outputs": [
    {
     "data": {
      "text/html": [
       "<div>\n",
       "<style scoped>\n",
       "    .dataframe tbody tr th:only-of-type {\n",
       "        vertical-align: middle;\n",
       "    }\n",
       "\n",
       "    .dataframe tbody tr th {\n",
       "        vertical-align: top;\n",
       "    }\n",
       "\n",
       "    .dataframe thead th {\n",
       "        text-align: right;\n",
       "    }\n",
       "</style>\n",
       "<table border=\"1\" class=\"dataframe\">\n",
       "  <thead>\n",
       "    <tr style=\"text-align: right;\">\n",
       "      <th>citizen</th>\n",
       "      <th>n</th>\n",
       "      <th>y</th>\n",
       "    </tr>\n",
       "    <tr>\n",
       "      <th>color</th>\n",
       "      <th></th>\n",
       "      <th></th>\n",
       "    </tr>\n",
       "  </thead>\n",
       "  <tbody>\n",
       "    <tr>\n",
       "      <th>Black</th>\n",
       "      <td>2</td>\n",
       "      <td>7</td>\n",
       "    </tr>\n",
       "    <tr>\n",
       "      <th>White</th>\n",
       "      <td>9</td>\n",
       "      <td>6</td>\n",
       "    </tr>\n",
       "  </tbody>\n",
       "</table>\n",
       "</div>"
      ],
      "text/plain": [
       "citizen  n  y\n",
       "color        \n",
       "Black    2  7\n",
       "White    9  6"
      ]
     },
     "metadata": {},
     "output_type": "display_data"
    }
   ],
   "source": [
    "table = pd.crosstab(data_chi.color,data_chi.citizen)\n",
    "display(table)\n",
    "#tab1=np.array(table)\n"
   ]
  },
  {
   "cell_type": "code",
   "execution_count": 10,
   "metadata": {},
   "outputs": [
    {
     "name": "stdout",
     "output_type": "stream",
     "text": [
      "1.8909090909090907 0.16909942085258 1 [[4.125 4.875]\n",
      " [6.875 8.125]]\n",
      "significance=0.1, p=0.2\n",
      "Variables are not associated(fail to reject H0)\n"
     ]
    }
   ],
   "source": [
    "stat, p, dof, expected = chi2_contingency(table)\n",
    "print(stat,p,dof,expected)\n",
    "# select significance value\n",
    "alpha = 0.05\n",
    "# Determine whether to reject or keep your null hypothesis\n",
    "print('significance=%.3f, p=%.3f' % (alpha, p))\n",
    "if p <= alpha:\n",
    "    print('Variables are associated (reject H0)')\n",
    "else:\n",
    "    print('Variables are not associated(fail to reject H0)')"
   ]
  },
  {
   "cell_type": "markdown",
   "metadata": {},
   "source": [
    "#####   <h1>ANOVA TESTING </h1>Association between continous and Non continous Variable\n",
    "H0: No Association between two variables<br>\n",
    "H1: Association between two variables"
   ]
  },
  {
   "cell_type": "code",
   "execution_count": 12,
   "metadata": {},
   "outputs": [],
   "source": [
    "import scipy.stats as stats\n",
    "#color ==> categoricaland for each value of this"
   ]
  },
  {
   "cell_type": "code",
   "execution_count": 13,
   "metadata": {},
   "outputs": [
    {
     "data": {
      "text/plain": [
       "F_onewayResult(statistic=0.022671063478977738, pvalue=0.8816876178966506)"
      ]
     },
     "execution_count": 13,
     "metadata": {},
     "output_type": "execute_result"
    }
   ],
   "source": [
    "stats.f_oneway(data_chi['height'][data_chi['color']=='Black'],data_chi['height'][data_chi['color']=='White'])\n",
    "\n",
    "stats.f_oneway(data_chi['height'][data_chi['color']=='Black'],data_chi['height'][data_chi['color']=='White'])\n",
    "\n"
   ]
  },
  {
   "cell_type": "markdown",
   "metadata": {},
   "source": [
    "<h4> Another Example"
   ]
  },
  {
   "cell_type": "code",
   "execution_count": 25,
   "metadata": {},
   "outputs": [
    {
     "data": {
      "text/html": [
       "<div>\n",
       "<style scoped>\n",
       "    .dataframe tbody tr th:only-of-type {\n",
       "        vertical-align: middle;\n",
       "    }\n",
       "\n",
       "    .dataframe tbody tr th {\n",
       "        vertical-align: top;\n",
       "    }\n",
       "\n",
       "    .dataframe thead th {\n",
       "        text-align: right;\n",
       "    }\n",
       "</style>\n",
       "<table border=\"1\" class=\"dataframe\">\n",
       "  <thead>\n",
       "    <tr style=\"text-align: right;\">\n",
       "      <th></th>\n",
       "      <th>company</th>\n",
       "      <th>score</th>\n",
       "    </tr>\n",
       "  </thead>\n",
       "  <tbody>\n",
       "    <tr>\n",
       "      <th>0</th>\n",
       "      <td>A</td>\n",
       "      <td>12.6</td>\n",
       "    </tr>\n",
       "    <tr>\n",
       "      <th>1</th>\n",
       "      <td>A</td>\n",
       "      <td>12.0</td>\n",
       "    </tr>\n",
       "    <tr>\n",
       "      <th>2</th>\n",
       "      <td>A</td>\n",
       "      <td>11.8</td>\n",
       "    </tr>\n",
       "    <tr>\n",
       "      <th>3</th>\n",
       "      <td>A</td>\n",
       "      <td>11.9</td>\n",
       "    </tr>\n",
       "    <tr>\n",
       "      <th>4</th>\n",
       "      <td>A</td>\n",
       "      <td>13.0</td>\n",
       "    </tr>\n",
       "  </tbody>\n",
       "</table>\n",
       "</div>"
      ],
      "text/plain": [
       "  company  score\n",
       "0       A   12.6\n",
       "1       A   12.0\n",
       "2       A   11.8\n",
       "3       A   11.9\n",
       "4       A   13.0"
      ]
     },
     "execution_count": 25,
     "metadata": {},
     "output_type": "execute_result"
    }
   ],
   "source": [
    "A = [12.6, 12, 11.8, 11.9, 13, 12.5, 14]\n",
    "B = [10, 10.2, 10, 12, 14, 13]\n",
    "C = [10.1, 13, 13.4, 12.9, 8.9, 10.7, 13.6, 12]\n",
    "all_scores = A + B + C\n",
    "company_names = (['A'] * len(A)) +  (['B'] * len(B)) +  (['C'] * len(C))\n",
    "data = pd.DataFrame({'company': company_names, 'score': all_scores})\n",
    "data.columns\n",
    "data.company.value_counts()\n",
    "data.head()"
   ]
  },
  {
   "cell_type": "code",
   "execution_count": 19,
   "metadata": {},
   "outputs": [
    {
     "data": {
      "text/plain": [
       "F_onewayResult(statistic=0.8212966923081559, pvalue=0.4556832940515236)"
      ]
     },
     "execution_count": 19,
     "metadata": {},
     "output_type": "execute_result"
    }
   ],
   "source": [
    "stats.f_oneway(data['score'][data['company']=='A'],data['score'][data['company']=='B'],data['score'][data['company']=='C'])\n"
   ]
  },
  {
   "cell_type": "markdown",
   "metadata": {},
   "source": [
    "<h1> T-test</h1><br>\n",
    "H0: mean of two variables are same<br>\n",
    "H1: means are not same"
   ]
  },
  {
   "cell_type": "code",
   "execution_count": 124,
   "metadata": {},
   "outputs": [
    {
     "data": {
      "text/plain": [
       "Ttest_relResult(statistic=-27.904440930458303, pvalue=3.063110621332222e-19)"
      ]
     },
     "execution_count": 124,
     "metadata": {},
     "output_type": "execute_result"
    }
   ],
   "source": [
    "stats.ttest_rel(data_chi.weight,data_chi.height)"
   ]
  },
  {
   "cell_type": "markdown",
   "metadata": {},
   "source": [
    "<h1>Z-test</h1><br>\n",
    "H0:means of two variables are same<br>\n",
    "H1: means are not same\n",
    "\n"
   ]
  },
  {
   "cell_type": "code",
   "execution_count": 129,
   "metadata": {},
   "outputs": [
    {
     "name": "stdout",
     "output_type": "stream",
     "text": [
      "Reject the null hypothesis\n"
     ]
    }
   ],
   "source": [
    "from statsmodels.stats import weightstats as stests\n",
    "\n",
    "ttest,pval =stests.ztest(data_chi.weight,data_chi.height)\n",
    "pval\n",
    "if(pval<0.05):\n",
    "    print(\"Reject the null hypothesis\")\n",
    "else:\n",
    "    print(\"Accept the NUll Hypotheiss\")\n"
   ]
  },
  {
   "cell_type": "code",
   "execution_count": null,
   "metadata": {},
   "outputs": [],
   "source": []
  },
  {
   "cell_type": "code",
   "execution_count": null,
   "metadata": {},
   "outputs": [],
   "source": []
  }
 ],
 "metadata": {
  "kernelspec": {
   "display_name": "Python 3",
   "language": "python",
   "name": "python3"
  },
  "language_info": {
   "codemirror_mode": {
    "name": "ipython",
    "version": 3
   },
   "file_extension": ".py",
   "mimetype": "text/x-python",
   "name": "python",
   "nbconvert_exporter": "python",
   "pygments_lexer": "ipython3",
   "version": "3.6.4"
  }
 },
 "nbformat": 4,
 "nbformat_minor": 2
}
